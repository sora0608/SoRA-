{
 "cells": [
  {
   "cell_type": "code",
   "execution_count": 9,
   "id": "0952527a",
   "metadata": {},
   "outputs": [],
   "source": [
    "import numpy as np\n",
    "import pandas as pd\n",
    "import matplotlib as  mpl\n",
    "from matplotlib import pyplot as plt\n",
    "import seaborn as sns\n",
    "import warnings\n",
    "import matplotlib.dates as mdates\n",
    "from datetime import timedelta\n",
    "# 有时候运行代码时会有很多warning输出，像提醒新版本之类的，如果不想这些乱糟糟的输出，可以使用如下代码\n",
    "warnings.filterwarnings('ignore')\n",
    "# 用来显示中文标签\n",
    "mpl.rcParams[\"font.family\"] = \"SimHei\"\n",
    "# 用来显示负号\n",
    "mpl.rcParams[\"axes.unicode_minus\"] = False"
   ]
  },
  {
   "cell_type": "code",
   "execution_count": 10,
   "id": "792d3b78",
   "metadata": {},
   "outputs": [],
   "source": [
    "# 写入数据\n",
    "\n",
    "with open(r'D:\\Desktop\\淘宝用户行为数据\\UserBehavior.csv', 'r',encoding='utf-8') as f: \n",
    "        with open(r'D:\\Desktop\\淘宝用户行为数据\\UserBehavior_newnew.csv','w',encoding='utf-8') as fout: \n",
    "            block = [] \n",
    "            for line in f: \n",
    "                block.append(line) \n",
    "                if len(block) <= 10000:  \n",
    "                        fout.write(','.join(line.split(' ')))  \n",
    "                else: \n",
    "                      break \n"
   ]
  },
  {
   "cell_type": "code",
   "execution_count": 11,
   "id": "486c7f0d",
   "metadata": {},
   "outputs": [],
   "source": [
    "df = pd.read_csv(r\"D:\\Desktop\\淘宝用户行为数据\\UserBehavior_newnew.csv\",encoding='utf-8',header=None,names=['用户id','商品ID','商品类目ID','行为类型','时间戳'])"
   ]
  },
  {
   "cell_type": "code",
   "execution_count": 12,
   "id": "d26b8344",
   "metadata": {
    "scrolled": false
   },
   "outputs": [
    {
     "data": {
      "text/html": [
       "<div>\n",
       "<style scoped>\n",
       "    .dataframe tbody tr th:only-of-type {\n",
       "        vertical-align: middle;\n",
       "    }\n",
       "\n",
       "    .dataframe tbody tr th {\n",
       "        vertical-align: top;\n",
       "    }\n",
       "\n",
       "    .dataframe thead th {\n",
       "        text-align: right;\n",
       "    }\n",
       "</style>\n",
       "<table border=\"1\" class=\"dataframe\">\n",
       "  <thead>\n",
       "    <tr style=\"text-align: right;\">\n",
       "      <th></th>\n",
       "      <th>用户id</th>\n",
       "      <th>商品ID</th>\n",
       "      <th>商品类目ID</th>\n",
       "      <th>行为类型</th>\n",
       "      <th>时间戳</th>\n",
       "    </tr>\n",
       "  </thead>\n",
       "  <tbody>\n",
       "    <tr>\n",
       "      <th>0</th>\n",
       "      <td>1</td>\n",
       "      <td>2268318</td>\n",
       "      <td>2520377</td>\n",
       "      <td>pv</td>\n",
       "      <td>1511544070</td>\n",
       "    </tr>\n",
       "    <tr>\n",
       "      <th>1</th>\n",
       "      <td>1</td>\n",
       "      <td>2333346</td>\n",
       "      <td>2520771</td>\n",
       "      <td>pv</td>\n",
       "      <td>1511561733</td>\n",
       "    </tr>\n",
       "    <tr>\n",
       "      <th>2</th>\n",
       "      <td>1</td>\n",
       "      <td>2576651</td>\n",
       "      <td>149192</td>\n",
       "      <td>pv</td>\n",
       "      <td>1511572885</td>\n",
       "    </tr>\n",
       "    <tr>\n",
       "      <th>3</th>\n",
       "      <td>1</td>\n",
       "      <td>3830808</td>\n",
       "      <td>4181361</td>\n",
       "      <td>pv</td>\n",
       "      <td>1511593493</td>\n",
       "    </tr>\n",
       "    <tr>\n",
       "      <th>4</th>\n",
       "      <td>1</td>\n",
       "      <td>4365585</td>\n",
       "      <td>2520377</td>\n",
       "      <td>pv</td>\n",
       "      <td>1511596146</td>\n",
       "    </tr>\n",
       "    <tr>\n",
       "      <th>...</th>\n",
       "      <td>...</td>\n",
       "      <td>...</td>\n",
       "      <td>...</td>\n",
       "      <td>...</td>\n",
       "      <td>...</td>\n",
       "    </tr>\n",
       "    <tr>\n",
       "      <th>9995</th>\n",
       "      <td>1000436</td>\n",
       "      <td>2279117</td>\n",
       "      <td>405755</td>\n",
       "      <td>pv</td>\n",
       "      <td>1512184711</td>\n",
       "    </tr>\n",
       "    <tr>\n",
       "      <th>9996</th>\n",
       "      <td>1000436</td>\n",
       "      <td>1542569</td>\n",
       "      <td>3619575</td>\n",
       "      <td>buy</td>\n",
       "      <td>1512184723</td>\n",
       "    </tr>\n",
       "    <tr>\n",
       "      <th>9997</th>\n",
       "      <td>1000436</td>\n",
       "      <td>2279117</td>\n",
       "      <td>405755</td>\n",
       "      <td>pv</td>\n",
       "      <td>1512184785</td>\n",
       "    </tr>\n",
       "    <tr>\n",
       "      <th>9998</th>\n",
       "      <td>1000436</td>\n",
       "      <td>3249912</td>\n",
       "      <td>2920476</td>\n",
       "      <td>pv</td>\n",
       "      <td>1512184868</td>\n",
       "    </tr>\n",
       "    <tr>\n",
       "      <th>9999</th>\n",
       "      <td>1000436</td>\n",
       "      <td>921462</td>\n",
       "      <td>1888306</td>\n",
       "      <td>fav</td>\n",
       "      <td>1512184965</td>\n",
       "    </tr>\n",
       "  </tbody>\n",
       "</table>\n",
       "<p>10000 rows × 5 columns</p>\n",
       "</div>"
      ],
      "text/plain": [
       "         用户id     商品ID   商品类目ID 行为类型         时间戳\n",
       "0           1  2268318  2520377   pv  1511544070\n",
       "1           1  2333346  2520771   pv  1511561733\n",
       "2           1  2576651   149192   pv  1511572885\n",
       "3           1  3830808  4181361   pv  1511593493\n",
       "4           1  4365585  2520377   pv  1511596146\n",
       "...       ...      ...      ...  ...         ...\n",
       "9995  1000436  2279117   405755   pv  1512184711\n",
       "9996  1000436  1542569  3619575  buy  1512184723\n",
       "9997  1000436  2279117   405755   pv  1512184785\n",
       "9998  1000436  3249912  2920476   pv  1512184868\n",
       "9999  1000436   921462  1888306  fav  1512184965\n",
       "\n",
       "[10000 rows x 5 columns]"
      ]
     },
     "execution_count": 12,
     "metadata": {},
     "output_type": "execute_result"
    }
   ],
   "source": [
    "df"
   ]
  },
  {
   "cell_type": "code",
   "execution_count": 13,
   "id": "6055c4a2",
   "metadata": {},
   "outputs": [
    {
     "data": {
      "text/plain": [
       "0"
      ]
     },
     "execution_count": 13,
     "metadata": {},
     "output_type": "execute_result"
    }
   ],
   "source": [
    "#查看是否存在重复的行数据\n",
    "(df.duplicated()).sum()"
   ]
  },
  {
   "cell_type": "code",
   "execution_count": 14,
   "id": "f2e16e82",
   "metadata": {},
   "outputs": [
    {
     "data": {
      "text/plain": [
       "用户id      False\n",
       "商品ID      False\n",
       "商品类目ID    False\n",
       "行为类型      False\n",
       "时间戳       False\n",
       "dtype: bool"
      ]
     },
     "execution_count": 14,
     "metadata": {},
     "output_type": "execute_result"
    }
   ],
   "source": [
    "#查看列中是否存在缺失数据返回true证明有缺失数据,false：没有缺失数据\n",
    "df.isnull().any(axis=0)"
   ]
  },
  {
   "cell_type": "code",
   "execution_count": 15,
   "id": "0e226a26",
   "metadata": {
    "scrolled": true
   },
   "outputs": [
    {
     "name": "stdout",
     "output_type": "stream",
     "text": [
      "<class 'pandas.core.frame.DataFrame'>\n",
      "RangeIndex: 5 entries, 0 to 4\n",
      "Data columns (total 5 columns):\n",
      " #   Column  Non-Null Count  Dtype \n",
      "---  ------  --------------  ----- \n",
      " 0   用户id    5 non-null      int64 \n",
      " 1   商品ID    5 non-null      int64 \n",
      " 2   商品类目ID  5 non-null      int64 \n",
      " 3   行为类型    5 non-null      object\n",
      " 4   时间戳     5 non-null      int64 \n",
      "dtypes: int64(4), object(1)\n",
      "memory usage: 328.0+ bytes\n"
     ]
    }
   ],
   "source": [
    "df.head().info()"
   ]
  },
  {
   "cell_type": "code",
   "execution_count": 16,
   "id": "8cc7838f",
   "metadata": {},
   "outputs": [],
   "source": [
    "df['时间戳']=df['时间戳'].astype('str')"
   ]
  },
  {
   "cell_type": "code",
   "execution_count": 17,
   "id": "b8c002f6",
   "metadata": {},
   "outputs": [
    {
     "name": "stdout",
     "output_type": "stream",
     "text": [
      "<class 'pandas.core.frame.DataFrame'>\n",
      "RangeIndex: 5 entries, 0 to 4\n",
      "Data columns (total 5 columns):\n",
      " #   Column  Non-Null Count  Dtype \n",
      "---  ------  --------------  ----- \n",
      " 0   用户id    5 non-null      int64 \n",
      " 1   商品ID    5 non-null      int64 \n",
      " 2   商品类目ID  5 non-null      int64 \n",
      " 3   行为类型    5 non-null      object\n",
      " 4   时间戳     5 non-null      object\n",
      "dtypes: int64(3), object(2)\n",
      "memory usage: 328.0+ bytes\n"
     ]
    }
   ],
   "source": [
    "df.head().info()"
   ]
  },
  {
   "cell_type": "code",
   "execution_count": 18,
   "id": "275f30d9",
   "metadata": {},
   "outputs": [],
   "source": [
    "df['时间戳']=pd.to_datetime(df['时间戳'],unit='s')"
   ]
  },
  {
   "cell_type": "code",
   "execution_count": 19,
   "id": "c776cc5d",
   "metadata": {},
   "outputs": [
    {
     "data": {
      "text/html": [
       "<div>\n",
       "<style scoped>\n",
       "    .dataframe tbody tr th:only-of-type {\n",
       "        vertical-align: middle;\n",
       "    }\n",
       "\n",
       "    .dataframe tbody tr th {\n",
       "        vertical-align: top;\n",
       "    }\n",
       "\n",
       "    .dataframe thead th {\n",
       "        text-align: right;\n",
       "    }\n",
       "</style>\n",
       "<table border=\"1\" class=\"dataframe\">\n",
       "  <thead>\n",
       "    <tr style=\"text-align: right;\">\n",
       "      <th></th>\n",
       "      <th>用户id</th>\n",
       "      <th>商品ID</th>\n",
       "      <th>商品类目ID</th>\n",
       "      <th>行为类型</th>\n",
       "      <th>时间戳</th>\n",
       "    </tr>\n",
       "  </thead>\n",
       "  <tbody>\n",
       "    <tr>\n",
       "      <th>0</th>\n",
       "      <td>1</td>\n",
       "      <td>2268318</td>\n",
       "      <td>2520377</td>\n",
       "      <td>pv</td>\n",
       "      <td>2017-11-24 17:21:10</td>\n",
       "    </tr>\n",
       "    <tr>\n",
       "      <th>1</th>\n",
       "      <td>1</td>\n",
       "      <td>2333346</td>\n",
       "      <td>2520771</td>\n",
       "      <td>pv</td>\n",
       "      <td>2017-11-24 22:15:33</td>\n",
       "    </tr>\n",
       "    <tr>\n",
       "      <th>2</th>\n",
       "      <td>1</td>\n",
       "      <td>2576651</td>\n",
       "      <td>149192</td>\n",
       "      <td>pv</td>\n",
       "      <td>2017-11-25 01:21:25</td>\n",
       "    </tr>\n",
       "    <tr>\n",
       "      <th>3</th>\n",
       "      <td>1</td>\n",
       "      <td>3830808</td>\n",
       "      <td>4181361</td>\n",
       "      <td>pv</td>\n",
       "      <td>2017-11-25 07:04:53</td>\n",
       "    </tr>\n",
       "    <tr>\n",
       "      <th>4</th>\n",
       "      <td>1</td>\n",
       "      <td>4365585</td>\n",
       "      <td>2520377</td>\n",
       "      <td>pv</td>\n",
       "      <td>2017-11-25 07:49:06</td>\n",
       "    </tr>\n",
       "    <tr>\n",
       "      <th>...</th>\n",
       "      <td>...</td>\n",
       "      <td>...</td>\n",
       "      <td>...</td>\n",
       "      <td>...</td>\n",
       "      <td>...</td>\n",
       "    </tr>\n",
       "    <tr>\n",
       "      <th>9995</th>\n",
       "      <td>1000436</td>\n",
       "      <td>2279117</td>\n",
       "      <td>405755</td>\n",
       "      <td>pv</td>\n",
       "      <td>2017-12-02 03:18:31</td>\n",
       "    </tr>\n",
       "    <tr>\n",
       "      <th>9996</th>\n",
       "      <td>1000436</td>\n",
       "      <td>1542569</td>\n",
       "      <td>3619575</td>\n",
       "      <td>buy</td>\n",
       "      <td>2017-12-02 03:18:43</td>\n",
       "    </tr>\n",
       "    <tr>\n",
       "      <th>9997</th>\n",
       "      <td>1000436</td>\n",
       "      <td>2279117</td>\n",
       "      <td>405755</td>\n",
       "      <td>pv</td>\n",
       "      <td>2017-12-02 03:19:45</td>\n",
       "    </tr>\n",
       "    <tr>\n",
       "      <th>9998</th>\n",
       "      <td>1000436</td>\n",
       "      <td>3249912</td>\n",
       "      <td>2920476</td>\n",
       "      <td>pv</td>\n",
       "      <td>2017-12-02 03:21:08</td>\n",
       "    </tr>\n",
       "    <tr>\n",
       "      <th>9999</th>\n",
       "      <td>1000436</td>\n",
       "      <td>921462</td>\n",
       "      <td>1888306</td>\n",
       "      <td>fav</td>\n",
       "      <td>2017-12-02 03:22:45</td>\n",
       "    </tr>\n",
       "  </tbody>\n",
       "</table>\n",
       "<p>10000 rows × 5 columns</p>\n",
       "</div>"
      ],
      "text/plain": [
       "         用户id     商品ID   商品类目ID 行为类型                 时间戳\n",
       "0           1  2268318  2520377   pv 2017-11-24 17:21:10\n",
       "1           1  2333346  2520771   pv 2017-11-24 22:15:33\n",
       "2           1  2576651   149192   pv 2017-11-25 01:21:25\n",
       "3           1  3830808  4181361   pv 2017-11-25 07:04:53\n",
       "4           1  4365585  2520377   pv 2017-11-25 07:49:06\n",
       "...       ...      ...      ...  ...                 ...\n",
       "9995  1000436  2279117   405755   pv 2017-12-02 03:18:31\n",
       "9996  1000436  1542569  3619575  buy 2017-12-02 03:18:43\n",
       "9997  1000436  2279117   405755   pv 2017-12-02 03:19:45\n",
       "9998  1000436  3249912  2920476   pv 2017-12-02 03:21:08\n",
       "9999  1000436   921462  1888306  fav 2017-12-02 03:22:45\n",
       "\n",
       "[10000 rows x 5 columns]"
      ]
     },
     "execution_count": 19,
     "metadata": {},
     "output_type": "execute_result"
    }
   ],
   "source": [
    "df"
   ]
  },
  {
   "cell_type": "code",
   "execution_count": 20,
   "id": "a73b98da",
   "metadata": {},
   "outputs": [],
   "source": [
    "df.时间戳=pd.to_datetime(df['时间戳'])\n",
    "df['date']=df['时间戳'].dt.date"
   ]
  },
  {
   "cell_type": "code",
   "execution_count": 21,
   "id": "cdeaeda9",
   "metadata": {},
   "outputs": [
    {
     "data": {
      "text/html": [
       "<div>\n",
       "<style scoped>\n",
       "    .dataframe tbody tr th:only-of-type {\n",
       "        vertical-align: middle;\n",
       "    }\n",
       "\n",
       "    .dataframe tbody tr th {\n",
       "        vertical-align: top;\n",
       "    }\n",
       "\n",
       "    .dataframe thead th {\n",
       "        text-align: right;\n",
       "    }\n",
       "</style>\n",
       "<table border=\"1\" class=\"dataframe\">\n",
       "  <thead>\n",
       "    <tr style=\"text-align: right;\">\n",
       "      <th></th>\n",
       "      <th>用户id</th>\n",
       "      <th>商品ID</th>\n",
       "      <th>商品类目ID</th>\n",
       "      <th>行为类型</th>\n",
       "      <th>时间戳</th>\n",
       "      <th>date</th>\n",
       "    </tr>\n",
       "  </thead>\n",
       "  <tbody>\n",
       "    <tr>\n",
       "      <th>0</th>\n",
       "      <td>1</td>\n",
       "      <td>2268318</td>\n",
       "      <td>2520377</td>\n",
       "      <td>pv</td>\n",
       "      <td>2017-11-24 17:21:10</td>\n",
       "      <td>2017-11-24</td>\n",
       "    </tr>\n",
       "    <tr>\n",
       "      <th>1</th>\n",
       "      <td>1</td>\n",
       "      <td>2333346</td>\n",
       "      <td>2520771</td>\n",
       "      <td>pv</td>\n",
       "      <td>2017-11-24 22:15:33</td>\n",
       "      <td>2017-11-24</td>\n",
       "    </tr>\n",
       "    <tr>\n",
       "      <th>2</th>\n",
       "      <td>1</td>\n",
       "      <td>2576651</td>\n",
       "      <td>149192</td>\n",
       "      <td>pv</td>\n",
       "      <td>2017-11-25 01:21:25</td>\n",
       "      <td>2017-11-25</td>\n",
       "    </tr>\n",
       "    <tr>\n",
       "      <th>3</th>\n",
       "      <td>1</td>\n",
       "      <td>3830808</td>\n",
       "      <td>4181361</td>\n",
       "      <td>pv</td>\n",
       "      <td>2017-11-25 07:04:53</td>\n",
       "      <td>2017-11-25</td>\n",
       "    </tr>\n",
       "    <tr>\n",
       "      <th>4</th>\n",
       "      <td>1</td>\n",
       "      <td>4365585</td>\n",
       "      <td>2520377</td>\n",
       "      <td>pv</td>\n",
       "      <td>2017-11-25 07:49:06</td>\n",
       "      <td>2017-11-25</td>\n",
       "    </tr>\n",
       "  </tbody>\n",
       "</table>\n",
       "</div>"
      ],
      "text/plain": [
       "   用户id     商品ID   商品类目ID 行为类型                 时间戳        date\n",
       "0     1  2268318  2520377   pv 2017-11-24 17:21:10  2017-11-24\n",
       "1     1  2333346  2520771   pv 2017-11-24 22:15:33  2017-11-24\n",
       "2     1  2576651   149192   pv 2017-11-25 01:21:25  2017-11-25\n",
       "3     1  3830808  4181361   pv 2017-11-25 07:04:53  2017-11-25\n",
       "4     1  4365585  2520377   pv 2017-11-25 07:49:06  2017-11-25"
      ]
     },
     "execution_count": 21,
     "metadata": {},
     "output_type": "execute_result"
    }
   ],
   "source": [
    "df.head()"
   ]
  },
  {
   "cell_type": "code",
   "execution_count": 22,
   "id": "eba715d9",
   "metadata": {},
   "outputs": [
    {
     "name": "stdout",
     "output_type": "stream",
     "text": [
      "<class 'pandas.core.frame.DataFrame'>\n",
      "RangeIndex: 5 entries, 0 to 4\n",
      "Data columns (total 6 columns):\n",
      " #   Column  Non-Null Count  Dtype         \n",
      "---  ------  --------------  -----         \n",
      " 0   用户id    5 non-null      int64         \n",
      " 1   商品ID    5 non-null      int64         \n",
      " 2   商品类目ID  5 non-null      int64         \n",
      " 3   行为类型    5 non-null      object        \n",
      " 4   时间戳     5 non-null      datetime64[ns]\n",
      " 5   date    5 non-null      object        \n",
      "dtypes: datetime64[ns](1), int64(3), object(2)\n",
      "memory usage: 368.0+ bytes\n"
     ]
    }
   ],
   "source": [
    "df.head().info()"
   ]
  },
  {
   "cell_type": "code",
   "execution_count": 23,
   "id": "d5424162",
   "metadata": {},
   "outputs": [
    {
     "data": {
      "text/plain": [
       "2017-11-25 16:14:27    4\n",
       "2017-11-24 17:19:06    3\n",
       "2017-11-29 15:25:39    3\n",
       "2017-12-02 00:26:27    2\n",
       "2017-11-27 11:00:36    2\n",
       "                      ..\n",
       "2017-11-29 15:38:19    1\n",
       "2017-11-28 07:13:17    1\n",
       "2017-11-28 07:13:49    1\n",
       "2017-11-26 03:01:40    1\n",
       "2017-11-25 06:23:12    1\n",
       "Name: 时间戳, Length: 9905, dtype: int64"
      ]
     },
     "execution_count": 23,
     "metadata": {},
     "output_type": "execute_result"
    }
   ],
   "source": [
    "df['时间戳'].value_counts()"
   ]
  },
  {
   "cell_type": "code",
   "execution_count": 24,
   "id": "90437a28",
   "metadata": {},
   "outputs": [
    {
     "data": {
      "text/plain": [
       "0       True\n",
       "1       True\n",
       "2       True\n",
       "3       True\n",
       "4       True\n",
       "        ... \n",
       "9995    True\n",
       "9996    True\n",
       "9997    True\n",
       "9998    True\n",
       "9999    True\n",
       "Name: 时间戳, Length: 10000, dtype: bool"
      ]
     },
     "execution_count": 24,
     "metadata": {},
     "output_type": "execute_result"
    }
   ],
   "source": [
    "df['时间戳']>'2017-01-01'"
   ]
  },
  {
   "cell_type": "code",
   "execution_count": 25,
   "id": "13038deb",
   "metadata": {},
   "outputs": [
    {
     "data": {
      "text/plain": [
       "<BarContainer object of 4 artists>"
      ]
     },
     "execution_count": 25,
     "metadata": {},
     "output_type": "execute_result"
    },
    {
     "data": {
      "image/png": "[encoded data removed]",
      "text/plain": [
       "<Figure size 432x288 with 1 Axes>"
      ]
     },
     "metadata": {
      "needs_background": "light"
     },
     "output_type": "display_data"
    }
   ],
   "source": [
    "#对所有用户的购买行为进行数据统计，求得不同购买行为的百分比柱状图\n",
    "s_percent=df['行为类型'].value_counts()/df['行为类型'].value_counts().sum()\n",
    "plt.bar(s_percent.index,s_percent.values)"
   ]
  },
  {
   "cell_type": "code",
   "execution_count": 26,
   "id": "2cc1a691",
   "metadata": {},
   "outputs": [
    {
     "data": {
      "text/plain": [
       "<BarContainer object of 4 artists>"
      ]
     },
     "execution_count": 26,
     "metadata": {},
     "output_type": "execute_result"
    },
    {
     "data": {
      "image/png": "[encoded data removed]",
      "text/plain": [
       "<Figure size 432x288 with 1 Axes>"
      ]
     },
     "metadata": {
      "needs_background": "light"
     },
     "output_type": "display_data"
    }
   ],
   "source": [
    "#正确做法：对行为类型进行分组\n",
    "s_percent=df.groupby(by='行为类型')['用户id'].nunique()/df.groupby(by='行为类型')['用户id'].nunique().sum()\n",
    "plt.bar(s_percent.index,s_percent.values)"
   ]
  },
  {
   "cell_type": "code",
   "execution_count": 27,
   "id": "132a6adb",
   "metadata": {},
   "outputs": [
    {
     "data": {
      "text/html": [
       "<div>\n",
       "<style scoped>\n",
       "    .dataframe tbody tr th:only-of-type {\n",
       "        vertical-align: middle;\n",
       "    }\n",
       "\n",
       "    .dataframe tbody tr th {\n",
       "        vertical-align: top;\n",
       "    }\n",
       "\n",
       "    .dataframe thead th {\n",
       "        text-align: right;\n",
       "    }\n",
       "</style>\n",
       "<table border=\"1\" class=\"dataframe\">\n",
       "  <thead>\n",
       "    <tr style=\"text-align: right;\">\n",
       "      <th></th>\n",
       "      <th>用户id</th>\n",
       "      <th>商品ID</th>\n",
       "      <th>buy</th>\n",
       "      <th>cart</th>\n",
       "      <th>fav</th>\n",
       "      <th>pv</th>\n",
       "    </tr>\n",
       "  </thead>\n",
       "  <tbody>\n",
       "    <tr>\n",
       "      <th>0</th>\n",
       "      <td>1</td>\n",
       "      <td>2268318</td>\n",
       "      <td>0</td>\n",
       "      <td>0</td>\n",
       "      <td>0</td>\n",
       "      <td>1</td>\n",
       "    </tr>\n",
       "    <tr>\n",
       "      <th>1</th>\n",
       "      <td>1</td>\n",
       "      <td>2333346</td>\n",
       "      <td>0</td>\n",
       "      <td>0</td>\n",
       "      <td>0</td>\n",
       "      <td>1</td>\n",
       "    </tr>\n",
       "    <tr>\n",
       "      <th>2</th>\n",
       "      <td>1</td>\n",
       "      <td>2576651</td>\n",
       "      <td>0</td>\n",
       "      <td>0</td>\n",
       "      <td>0</td>\n",
       "      <td>1</td>\n",
       "    </tr>\n",
       "    <tr>\n",
       "      <th>3</th>\n",
       "      <td>1</td>\n",
       "      <td>3830808</td>\n",
       "      <td>0</td>\n",
       "      <td>0</td>\n",
       "      <td>0</td>\n",
       "      <td>1</td>\n",
       "    </tr>\n",
       "    <tr>\n",
       "      <th>4</th>\n",
       "      <td>1</td>\n",
       "      <td>4365585</td>\n",
       "      <td>0</td>\n",
       "      <td>0</td>\n",
       "      <td>0</td>\n",
       "      <td>1</td>\n",
       "    </tr>\n",
       "  </tbody>\n",
       "</table>\n",
       "</div>"
      ],
      "text/plain": [
       "   用户id     商品ID  buy  cart  fav  pv\n",
       "0     1  2268318    0     0    0   1\n",
       "1     1  2333346    0     0    0   1\n",
       "2     1  2576651    0     0    0   1\n",
       "3     1  3830808    0     0    0   1\n",
       "4     1  4365585    0     0    0   1"
      ]
     },
     "execution_count": 27,
     "metadata": {},
     "output_type": "execute_result"
    }
   ],
   "source": [
    "#分析出每个用户对商品的不同行为\n",
    "one_hot_df=pd.get_dummies(df['行为类型'])\n",
    "user_item_behavior_df=pd.concat((df[['用户id','商品ID']],one_hot_df),axis=1)#对两张表进行横向拼接\n",
    "user_item_behavior_df.head()"
   ]
  },
  {
   "cell_type": "code",
   "execution_count": 28,
   "id": "4f4229ef",
   "metadata": {},
   "outputs": [],
   "source": [
    "#分析出每个用户对商品的不同行为的a汇总\n",
    "#对用户分组（考虑用户的重复情况）\n",
    "pv_sum=user_item_behavior_df.groupby(by='用户id')['pv'].sum()\n",
    "buy_sum=user_item_behavior_df.groupby(by='用户id')['buy'].sum()\n",
    "cart_sum=user_item_behavior_df.groupby(by='用户id')['cart'].sum()\n",
    "fav_sum=user_item_behavior_df.groupby(by='用户id')['fav'].sum()"
   ]
  },
  {
   "cell_type": "code",
   "execution_count": 29,
   "id": "af2213a7",
   "metadata": {},
   "outputs": [
    {
     "data": {
      "text/html": [
       "<div>\n",
       "<style scoped>\n",
       "    .dataframe tbody tr th:only-of-type {\n",
       "        vertical-align: middle;\n",
       "    }\n",
       "\n",
       "    .dataframe tbody tr th {\n",
       "        vertical-align: top;\n",
       "    }\n",
       "\n",
       "    .dataframe thead th {\n",
       "        text-align: right;\n",
       "    }\n",
       "</style>\n",
       "<table border=\"1\" class=\"dataframe\">\n",
       "  <thead>\n",
       "    <tr style=\"text-align: right;\">\n",
       "      <th></th>\n",
       "      <th>pv</th>\n",
       "      <th>buy</th>\n",
       "      <th>cart</th>\n",
       "      <th>fav</th>\n",
       "    </tr>\n",
       "    <tr>\n",
       "      <th>用户id</th>\n",
       "      <th></th>\n",
       "      <th></th>\n",
       "      <th></th>\n",
       "      <th></th>\n",
       "    </tr>\n",
       "  </thead>\n",
       "  <tbody>\n",
       "    <tr>\n",
       "      <th>1</th>\n",
       "      <td>55.0</td>\n",
       "      <td>0.0</td>\n",
       "      <td>0.0</td>\n",
       "      <td>0.0</td>\n",
       "    </tr>\n",
       "    <tr>\n",
       "      <th>100</th>\n",
       "      <td>84.0</td>\n",
       "      <td>8.0</td>\n",
       "      <td>0.0</td>\n",
       "      <td>6.0</td>\n",
       "    </tr>\n",
       "    <tr>\n",
       "      <th>1000</th>\n",
       "      <td>67.0</td>\n",
       "      <td>0.0</td>\n",
       "      <td>2.0</td>\n",
       "      <td>12.0</td>\n",
       "    </tr>\n",
       "    <tr>\n",
       "      <th>10001</th>\n",
       "      <td>21.0</td>\n",
       "      <td>0.0</td>\n",
       "      <td>0.0</td>\n",
       "      <td>0.0</td>\n",
       "    </tr>\n",
       "    <tr>\n",
       "      <th>100002</th>\n",
       "      <td>84.0</td>\n",
       "      <td>1.0</td>\n",
       "      <td>0.0</td>\n",
       "      <td>7.0</td>\n",
       "    </tr>\n",
       "  </tbody>\n",
       "</table>\n",
       "</div>"
      ],
      "text/plain": [
       "          pv  buy  cart   fav\n",
       "用户id                         \n",
       "1       55.0  0.0   0.0   0.0\n",
       "100     84.0  8.0   0.0   6.0\n",
       "1000    67.0  0.0   2.0  12.0\n",
       "10001   21.0  0.0   0.0   0.0\n",
       "100002  84.0  1.0   0.0   7.0"
      ]
     },
     "execution_count": 29,
     "metadata": {},
     "output_type": "execute_result"
    }
   ],
   "source": [
    "user_behavior_total_df=pd.DataFrame(data=[pv_sum,buy_sum,cart_sum,fav_sum]).T#.T为转置\n",
    "user_behavior_total_df.head()"
   ]
  },
  {
   "cell_type": "code",
   "execution_count": 30,
   "id": "6a3cf302",
   "metadata": {},
   "outputs": [
    {
     "data": {
      "text/plain": [
       "[<matplotlib.lines.Line2D at 0x1f38738beb0>,\n",
       " <matplotlib.lines.Line2D at 0x1f38cc35520>,\n",
       " <matplotlib.lines.Line2D at 0x1f38ccdc6d0>,\n",
       " <matplotlib.lines.Line2D at 0x1f38ccdc790>,\n",
       " <matplotlib.lines.Line2D at 0x1f38ccdc850>,\n",
       " <matplotlib.lines.Line2D at 0x1f38ccdc910>,\n",
       " <matplotlib.lines.Line2D at 0x1f38ccdc9d0>,\n",
       " <matplotlib.lines.Line2D at 0x1f38ccdca90>,\n",
       " <matplotlib.lines.Line2D at 0x1f38ccdcb50>,\n",
       " <matplotlib.lines.Line2D at 0x1f38ccdcc10>,\n",
       " <matplotlib.lines.Line2D at 0x1f38ccba850>,\n",
       " <matplotlib.lines.Line2D at 0x1f38ccdcd60>,\n",
       " <matplotlib.lines.Line2D at 0x1f38ccdce20>,\n",
       " <matplotlib.lines.Line2D at 0x1f38ccdcee0>,\n",
       " <matplotlib.lines.Line2D at 0x1f38ccdcfa0>,\n",
       " <matplotlib.lines.Line2D at 0x1f38cce70a0>,\n",
       " <matplotlib.lines.Line2D at 0x1f38cce7160>,\n",
       " <matplotlib.lines.Line2D at 0x1f38cce7220>,\n",
       " <matplotlib.lines.Line2D at 0x1f38cce72e0>,\n",
       " <matplotlib.lines.Line2D at 0x1f38cce73a0>,\n",
       " <matplotlib.lines.Line2D at 0x1f38cce7460>,\n",
       " <matplotlib.lines.Line2D at 0x1f38cce7520>,\n",
       " <matplotlib.lines.Line2D at 0x1f38cce75e0>,\n",
       " <matplotlib.lines.Line2D at 0x1f38cce76a0>,\n",
       " <matplotlib.lines.Line2D at 0x1f38cce7760>,\n",
       " <matplotlib.lines.Line2D at 0x1f38cce7820>,\n",
       " <matplotlib.lines.Line2D at 0x1f38cce78e0>,\n",
       " <matplotlib.lines.Line2D at 0x1f38cce79a0>,\n",
       " <matplotlib.lines.Line2D at 0x1f38cce7a60>,\n",
       " <matplotlib.lines.Line2D at 0x1f38cce7b20>,\n",
       " <matplotlib.lines.Line2D at 0x1f38cce7be0>,\n",
       " <matplotlib.lines.Line2D at 0x1f38cce7ca0>,\n",
       " <matplotlib.lines.Line2D at 0x1f38cce7d60>,\n",
       " <matplotlib.lines.Line2D at 0x1f38cce7e20>,\n",
       " <matplotlib.lines.Line2D at 0x1f38cce7ee0>,\n",
       " <matplotlib.lines.Line2D at 0x1f38cce7fa0>,\n",
       " <matplotlib.lines.Line2D at 0x1f38ccee0a0>,\n",
       " <matplotlib.lines.Line2D at 0x1f38ccee160>,\n",
       " <matplotlib.lines.Line2D at 0x1f38ccee220>,\n",
       " <matplotlib.lines.Line2D at 0x1f38ccee2e0>,\n",
       " <matplotlib.lines.Line2D at 0x1f38ccee3a0>,\n",
       " <matplotlib.lines.Line2D at 0x1f38ccee460>,\n",
       " <matplotlib.lines.Line2D at 0x1f38ccee520>,\n",
       " <matplotlib.lines.Line2D at 0x1f38ccee5e0>,\n",
       " <matplotlib.lines.Line2D at 0x1f38ccee6a0>,\n",
       " <matplotlib.lines.Line2D at 0x1f38ccee760>,\n",
       " <matplotlib.lines.Line2D at 0x1f38ccee820>,\n",
       " <matplotlib.lines.Line2D at 0x1f38ccee8e0>,\n",
       " <matplotlib.lines.Line2D at 0x1f38ccee9a0>,\n",
       " <matplotlib.lines.Line2D at 0x1f38cceea60>,\n",
       " <matplotlib.lines.Line2D at 0x1f38cceeb20>,\n",
       " <matplotlib.lines.Line2D at 0x1f38cceebe0>,\n",
       " <matplotlib.lines.Line2D at 0x1f38cceeca0>,\n",
       " <matplotlib.lines.Line2D at 0x1f38cceed60>,\n",
       " <matplotlib.lines.Line2D at 0x1f38cceee20>,\n",
       " <matplotlib.lines.Line2D at 0x1f38cceeee0>,\n",
       " <matplotlib.lines.Line2D at 0x1f38cceefa0>,\n",
       " <matplotlib.lines.Line2D at 0x1f38ccf40a0>,\n",
       " <matplotlib.lines.Line2D at 0x1f38ccf4160>,\n",
       " <matplotlib.lines.Line2D at 0x1f38ccf4220>,\n",
       " <matplotlib.lines.Line2D at 0x1f38ccf42e0>,\n",
       " <matplotlib.lines.Line2D at 0x1f38ccf43a0>,\n",
       " <matplotlib.lines.Line2D at 0x1f38ccf4460>,\n",
       " <matplotlib.lines.Line2D at 0x1f38ccf4520>,\n",
       " <matplotlib.lines.Line2D at 0x1f38ccf45e0>,\n",
       " <matplotlib.lines.Line2D at 0x1f38ccf46a0>,\n",
       " <matplotlib.lines.Line2D at 0x1f38ccf4760>,\n",
       " <matplotlib.lines.Line2D at 0x1f38ccf4820>,\n",
       " <matplotlib.lines.Line2D at 0x1f38ccf48e0>,\n",
       " <matplotlib.lines.Line2D at 0x1f38ccf49a0>,\n",
       " <matplotlib.lines.Line2D at 0x1f38ccf4a60>,\n",
       " <matplotlib.lines.Line2D at 0x1f38ccf4b20>,\n",
       " <matplotlib.lines.Line2D at 0x1f38ccf4be0>,\n",
       " <matplotlib.lines.Line2D at 0x1f38ccf4ca0>,\n",
       " <matplotlib.lines.Line2D at 0x1f38ccf4d60>,\n",
       " <matplotlib.lines.Line2D at 0x1f38ccf4e20>,\n",
       " <matplotlib.lines.Line2D at 0x1f38ccf4ee0>,\n",
       " <matplotlib.lines.Line2D at 0x1f38ccf4fa0>,\n",
       " <matplotlib.lines.Line2D at 0x1f38ccfc0a0>,\n",
       " <matplotlib.lines.Line2D at 0x1f38ccfc160>,\n",
       " <matplotlib.lines.Line2D at 0x1f38ccfc220>,\n",
       " <matplotlib.lines.Line2D at 0x1f38ccfc2e0>,\n",
       " <matplotlib.lines.Line2D at 0x1f38ccfc3a0>,\n",
       " <matplotlib.lines.Line2D at 0x1f38ccfc460>,\n",
       " <matplotlib.lines.Line2D at 0x1f38ccfc520>,\n",
       " <matplotlib.lines.Line2D at 0x1f38ccfc5e0>,\n",
       " <matplotlib.lines.Line2D at 0x1f38ccfc6a0>,\n",
       " <matplotlib.lines.Line2D at 0x1f38ccfc760>,\n",
       " <matplotlib.lines.Line2D at 0x1f38ccfc820>,\n",
       " <matplotlib.lines.Line2D at 0x1f38ccfc8e0>,\n",
       " <matplotlib.lines.Line2D at 0x1f38ccfc9a0>,\n",
       " <matplotlib.lines.Line2D at 0x1f38ccfca60>]"
      ]
     },
     "execution_count": 30,
     "metadata": {},
     "output_type": "execute_result"
    },
    {
     "data": {
      "image/png": "[encoded data removed]",
      "text/plain": [
       "<Figure size 432x288 with 1 Axes>"
      ]
     },
     "metadata": {
      "needs_background": "light"
     },
     "output_type": "display_data"
    }
   ],
   "source": [
    "pv_percent=user_behavior_total_df['pv']/user_behavior_total_df['pv'].sum()\n",
    "buy_percent=user_behavior_total_df['buy']/user_behavior_total_df['buy'].sum()\n",
    "cart_percent=user_behavior_total_df['cart']/user_behavior_total_df['cart'].sum()\n",
    "fav_percent=user_behavior_total_df['fav']/user_behavior_total_df['fav'].sum()\n",
    "index=[pv_percent.index,buy_percent.index,cart_percent.index,fav_percent.index]\n",
    "label=['pv','buy','cart','fav']\n",
    "values=[pv_percent.values,buy_percent.values,cart_percent.values,fav_percent.values]\n",
    "\n",
    "plt.plot(index,values)"
   ]
  },
  {
   "cell_type": "code",
   "execution_count": 31,
   "id": "df10fc3e",
   "metadata": {},
   "outputs": [
    {
     "data": {
      "text/plain": [
       "8986.0"
      ]
     },
     "execution_count": 31,
     "metadata": {},
     "output_type": "execute_result"
    }
   ],
   "source": [
    "#所有用户的总点击量\n",
    "user_behavior_total_df['pv'].sum()"
   ]
  },
  {
   "cell_type": "code",
   "execution_count": 32,
   "id": "c9003237",
   "metadata": {},
   "outputs": [
    {
     "data": {
      "text/plain": [
       "4"
      ]
     },
     "execution_count": 32,
     "metadata": {},
     "output_type": "execute_result"
    }
   ],
   "source": [
    "#点击——购买行为统计\n",
    "user_behavior_total_df.query('pv>0 & cart==0 & fav==0 & buy>0').shape[0]"
   ]
  },
  {
   "cell_type": "code",
   "execution_count": 43,
   "id": "31267f60",
   "metadata": {},
   "outputs": [
    {
     "data": {
      "text/plain": [
       "15"
      ]
     },
     "execution_count": 43,
     "metadata": {},
     "output_type": "execute_result"
    }
   ],
   "source": [
    "#点击——加购行为统计\n",
    "user_behavior_total_df.query('pv>0 & cart>0 & fav==0 & buy==0').shape[0]"
   ]
  },
  {
   "cell_type": "code",
   "execution_count": 44,
   "id": "2138ce7f",
   "metadata": {},
   "outputs": [
    {
     "data": {
      "text/plain": [
       "32"
      ]
     },
     "execution_count": 44,
     "metadata": {},
     "output_type": "execute_result"
    }
   ],
   "source": [
    "#点击——加购——购买\n",
    "user_behavior_total_df.query('pv>0 & cart>0 & fav==0 & buy>0').shape[0]"
   ]
  },
  {
   "cell_type": "code",
   "execution_count": 45,
   "id": "f87d5370",
   "metadata": {},
   "outputs": [
    {
     "data": {
      "text/plain": [
       "6"
      ]
     },
     "execution_count": 45,
     "metadata": {},
     "output_type": "execute_result"
    }
   ],
   "source": [
    "#点击——收藏\n",
    "user_behavior_total_df.query('pv>0 & cart==0 & fav>0 & buy==0').shape[0]"
   ]
  },
  {
   "cell_type": "code",
   "execution_count": 46,
   "id": "5dc35b79",
   "metadata": {},
   "outputs": [
    {
     "data": {
      "text/plain": [
       "6"
      ]
     },
     "execution_count": 46,
     "metadata": {},
     "output_type": "execute_result"
    }
   ],
   "source": [
    "#点击——收藏——购买\n",
    "user_behavior_total_df.query('pv>0 & cart==0 & fav>0 & buy>0').shape[0]"
   ]
  },
  {
   "cell_type": "code",
   "execution_count": 47,
   "id": "d2622d01",
   "metadata": {},
   "outputs": [
    {
     "data": {
      "text/plain": [
       "21"
      ]
     },
     "execution_count": 47,
     "metadata": {},
     "output_type": "execute_result"
    }
   ],
   "source": [
    "#点击——收藏+加购\n",
    "user_behavior_total_df.query('pv>0 & cart>0 & fav>0').shape[0]"
   ]
  },
  {
   "cell_type": "code",
   "execution_count": 48,
   "id": "adaadf94",
   "metadata": {},
   "outputs": [
    {
     "data": {
      "text/plain": [
       "13"
      ]
     },
     "execution_count": 48,
     "metadata": {},
     "output_type": "execute_result"
    }
   ],
   "source": [
    "#点击——收藏+加购——购买\n",
    "user_behavior_total_df.query('pv>0 & cart>0 & fav>0 & buy>0').shape[0]"
   ]
  },
  {
   "cell_type": "code",
   "execution_count": 49,
   "id": "b68467db",
   "metadata": {},
   "outputs": [
    {
     "data": {
      "text/plain": [
       "8"
      ]
     },
     "execution_count": 49,
     "metadata": {},
     "output_type": "execute_result"
    }
   ],
   "source": [
    "#点击——流失\n",
    "user_behavior_total_df.query('pv>0 & cart==0 & fav==0 & buy==0').shape[0]"
   ]
  },
  {
   "cell_type": "code",
   "execution_count": 53,
   "id": "74853059",
   "metadata": {},
   "outputs": [],
   "source": [
    "#直接购买转化率：点击——购买/点击量\n",
    "#加购购买转化率：点击——加购+购买/点击——加购\n",
    "#收藏购买转化率：点击——收藏——购买/点击——收藏\n",
    "#加购收藏购买转化率：点击——收藏+加购——购买/点击——收藏+加购\n",
    "#流失率：点击——流失、点击量\n",
    "buyvert=user_behavior_total_df.query('pv>0 & cart==0 & fav==0 & buy>0').shape[0]/user_behavior_total_df['pv'].sum()\n",
    "cartvert=user_behavior_total_df.query('pv>0 & cart>0 & fav==0 & buy>0').shape[0]/user_behavior_total_df.query('pv>0 & cart>0 & fav==0 & buy==0').shape[0]\n",
    "favvert=user_behavior_total_df.query('pv>0 & cart==0 & fav>0 & buy>0').shape[0]/user_behavior_total_df.query('pv>0 & cart==0 & fav>0 & buy==0').shape[0]\n",
    "cartfavbuyvert=user_behavior_total_df.query('pv>0 & cart>0 & fav>0 & buy>0').shape[0]/user_behavior_total_df.query('pv>0 & cart>0 & fav>0').shape[0]\n",
    "lose=user_behavior_total_df.query('pv>0 & cart==0 & fav==0 & buy==0').shape[0]/user_behavior_total_df['pv'].sum()\n"
   ]
  },
  {
   "cell_type": "code",
   "execution_count": 54,
   "id": "296a8733",
   "metadata": {},
   "outputs": [
    {
     "data": {
      "text/plain": [
       "0.0004451368795904741"
      ]
     },
     "execution_count": 54,
     "metadata": {},
     "output_type": "execute_result"
    }
   ],
   "source": [
    "buyvert"
   ]
  },
  {
   "cell_type": "code",
   "execution_count": 55,
   "id": "4603cb71",
   "metadata": {},
   "outputs": [
    {
     "data": {
      "text/plain": [
       "2.1333333333333333"
      ]
     },
     "execution_count": 55,
     "metadata": {},
     "output_type": "execute_result"
    }
   ],
   "source": [
    "cartvert"
   ]
  },
  {
   "cell_type": "code",
   "execution_count": 56,
   "id": "a4d9bd94",
   "metadata": {},
   "outputs": [
    {
     "data": {
      "text/plain": [
       "1.0"
      ]
     },
     "execution_count": 56,
     "metadata": {},
     "output_type": "execute_result"
    }
   ],
   "source": [
    "favvert"
   ]
  },
  {
   "cell_type": "code",
   "execution_count": 57,
   "id": "95db96b1",
   "metadata": {},
   "outputs": [
    {
     "data": {
      "text/plain": [
       "0.6190476190476191"
      ]
     },
     "execution_count": 57,
     "metadata": {},
     "output_type": "execute_result"
    }
   ],
   "source": [
    "cartfavbuyvert"
   ]
  },
  {
   "cell_type": "code",
   "execution_count": 58,
   "id": "5bd8fbdb",
   "metadata": {},
   "outputs": [
    {
     "data": {
      "text/plain": [
       "0.0008902737591809482"
      ]
     },
     "execution_count": 58,
     "metadata": {},
     "output_type": "execute_result"
    }
   ],
   "source": [
    "lose"
   ]
  },
  {
   "cell_type": "code",
   "execution_count": 59,
   "id": "da370506",
   "metadata": {},
   "outputs": [
    {
     "data": {
      "text/plain": [
       "商品ID\n",
       "1962765    10\n",
       "404297     11\n",
       "1669287    11\n",
       "4354614    12\n",
       "987677     12\n",
       "2492167    15\n",
       "3471238    16\n",
       "3454985    17\n",
       "1545024    18\n",
       "4350284    22\n",
       "Name: pv, dtype: uint8"
      ]
     },
     "execution_count": 59,
     "metadata": {},
     "output_type": "execute_result"
    }
   ],
   "source": [
    "#分析出点击量前10的商品\n",
    "pv_sum_item_10_s=user_item_behavior_df.groupby(by='商品ID')['pv'].sum().sort_values().tail(10)\n",
    "pv_sum_item_10_s"
   ]
  },
  {
   "cell_type": "code",
   "execution_count": 60,
   "id": "5c32bcfa",
   "metadata": {},
   "outputs": [
    {
     "data": {
      "text/plain": [
       "商品ID\n",
       "3294376    2\n",
       "1486733    2\n",
       "843421     2\n",
       "1242107    2\n",
       "387031     2\n",
       "167362     2\n",
       "2712827    2\n",
       "2397544    2\n",
       "4753136    2\n",
       "1545024    2\n",
       "Name: buy, dtype: uint8"
      ]
     },
     "execution_count": 60,
     "metadata": {},
     "output_type": "execute_result"
    }
   ],
   "source": [
    "#购买量前十的商品\n",
    "buy_sum_item_10_s=user_item_behavior_df.groupby(by='商品ID')['buy'].sum().sort_values().tail(10)\n",
    "buy_sum_item_10_s"
   ]
  },
  {
   "cell_type": "code",
   "execution_count": 61,
   "id": "3f097b06",
   "metadata": {},
   "outputs": [
    {
     "data": {
      "text/plain": [
       "1545024    2\n",
       "1486733    1\n",
       "2712827    1\n",
       "1242107    1\n",
       "387031     1\n",
       "4354614    1\n",
       "1962765    1\n",
       "2397544    1\n",
       "4753136    1\n",
       "4350284    1\n",
       "167362     1\n",
       "2492167    1\n",
       "404297     1\n",
       "3294376    1\n",
       "1669287    1\n",
       "3471238    1\n",
       "3454985    1\n",
       "987677     1\n",
       "843421     1\n",
       "Name: 商品ID, dtype: int64"
      ]
     },
     "execution_count": 61,
     "metadata": {},
     "output_type": "execute_result"
    }
   ],
   "source": [
    "#查看点击量高购买量也高的商品类别个数\n",
    "buy_sum_item_10_s.append(pv_sum_item_10_s).index.value_counts()"
   ]
  },
  {
   "cell_type": "code",
   "execution_count": 62,
   "id": "9ec777a0",
   "metadata": {},
   "outputs": [
    {
     "data": {
      "text/plain": [
       "[{'商品ID': 1962765, '购买量': 1},\n",
       " {'商品ID': 404297, '购买量': 1},\n",
       " {'商品ID': 1669287, '购买量': 0},\n",
       " {'商品ID': 4354614, '购买量': 0},\n",
       " {'商品ID': 987677, '购买量': 0},\n",
       " {'商品ID': 2492167, '购买量': 0},\n",
       " {'商品ID': 3471238, '购买量': 0},\n",
       " {'商品ID': 3454985, '购买量': 0},\n",
       " {'商品ID': 1545024, '购买量': 2},\n",
       " {'商品ID': 4350284, '购买量': 1}]"
      ]
     },
     "execution_count": 62,
     "metadata": {},
     "output_type": "execute_result"
    }
   ],
   "source": [
    "#计算点击量前十的商品的购买量\n",
    "pv_10_buy=[]\n",
    "for index in pv_sum_item_10_s.index:\n",
    "    buy_count=user_item_behavior_df.loc[user_item_behavior_df['商品ID']==index]['buy'].sum()\n",
    "    dic={\n",
    "        '商品ID':index,\n",
    "        '购买量':buy_count\n",
    "    }\n",
    "    pv_10_buy.append(dic)\n",
    "pv_10_buy"
   ]
  },
  {
   "cell_type": "code",
   "execution_count": 181,
   "id": "cf523c8b",
   "metadata": {},
   "outputs": [
    {
     "data": {
      "text/plain": [
       "[{'商品ID': 3294376, '点击量': 3},\n",
       " {'商品ID': 1486733, '点击量': 7},\n",
       " {'商品ID': 843421, '点击量': 1},\n",
       " {'商品ID': 1242107, '点击量': 1},\n",
       " {'商品ID': 387031, '点击量': 3},\n",
       " {'商品ID': 167362, '点击量': 3},\n",
       " {'商品ID': 2712827, '点击量': 6},\n",
       " {'商品ID': 2397544, '点击量': 0},\n",
       " {'商品ID': 4753136, '点击量': 1},\n",
       " {'商品ID': 1545024, '点击量': 18}]"
      ]
     },
     "execution_count": 181,
     "metadata": {},
     "output_type": "execute_result"
    }
   ],
   "source": [
    "#购买量前十的点击量\n",
    "buy_10_pv=[]\n",
    "for index in buy_sum_item_10_s.index:\n",
    "    pv_sum=user_item_behavior_df.loc[user_item_behavior_df['商品ID']==index]['pv'].sum()\n",
    "    dic={\n",
    "        '商品ID':index,\n",
    "        '点击量':pv_sum\n",
    "    }\n",
    "    buy_10_pv.append(dic)\n",
    "buy_10_pv"
   ]
  },
  {
   "cell_type": "code",
   "execution_count": 197,
   "id": "ca18cde2",
   "metadata": {},
   "outputs": [
    {
     "data": {
      "image/png": "[encoded data removed]",
      "text/plain": [
       "<Figure size 1600x1440 with 1 Axes>"
      ]
     },
     "metadata": {},
     "output_type": "display_data"
    }
   ],
   "source": [
    "\n",
    "#每天pv、uv的变化\n",
    "data_pv=df.groupby('date').用户id.count()\n",
    "data_uv=df.groupby('date').用户id.nunique()\n",
    "\n",
    "#mdates=df['时间戳']\n",
    "plt.style.use('ggplot')\n",
    "plt.figure(figsize=(20,18),dpi=80)\n",
    "plt.subplot(611)\n",
    "plt.plot(data_pv.index,data_pv.values,'bo-')\n",
    "plt.gca().xaxis.set_major_formatter(mdates.DateFormatter('%m/%d'))\n",
    "plt.gca().xaxis.set_major_locator(mdates.DayLocator())\n",
    "plt.gcf().autofmt_xdate()#自动旋转日期标记\n",
    "plt.xlabel('2017-xx-xx')\n",
    "plt.title('一个月内pv的变化')\n",
    "plt.show()"
   ]
  },
  {
   "cell_type": "code",
   "execution_count": 194,
   "id": "8f52ca05",
   "metadata": {},
   "outputs": [
    {
     "data": {
      "text/plain": [
       "(Timestamp('2017-12-03 15:59:18'), Timestamp('2017-11-24 15:41:20'))"
      ]
     },
     "execution_count": 194,
     "metadata": {},
     "output_type": "execute_result"
    }
   ],
   "source": [
    "#发现空白值过多\n",
    "ex=(df['时间戳']>='2017-11-07')&(df['时间戳']<='2017-12-07')\n",
    "df_new=df.loc[ex]\n",
    "df_new['时间戳'].max(),df_new['时间戳'].min()"
   ]
  },
  {
   "cell_type": "code",
   "execution_count": 195,
   "id": "f86b9e05",
   "metadata": {},
   "outputs": [
    {
     "data": {
      "image/png": "[encoded data removed]",
      "text/plain": [
       "<Figure size 1600x1440 with 1 Axes>"
      ]
     },
     "metadata": {},
     "output_type": "display_data"
    }
   ],
   "source": [
    "#每天pv、uv的变化\n",
    "data_pv=df_new.groupby('date').用户id.count()\n",
    "data_uv=df_new.groupby('date').用户id.nunique()\n",
    "\n",
    "#mdates=df['时间戳']\n",
    "plt.style.use('ggplot')\n",
    "plt.figure(figsize=(20,18),dpi=80)\n",
    "plt.subplot(611)\n",
    "plt.plot(data_pv.index,data_pv.values,'bo-')\n",
    "plt.gca().xaxis.set_major_formatter(mdates.DateFormatter('%m/%d'))\n",
    "plt.gca().xaxis.set_major_locator(mdates.DayLocator())\n",
    "plt.gcf().autofmt_xdate()#自动旋转日期标记\n",
    "plt.xlabel('2017-xx-xx')\n",
    "plt.title('一个月内pv的变化')\n",
    "plt.show()"
   ]
  },
  {
   "cell_type": "code",
   "execution_count": 191,
   "id": "11a20c81",
   "metadata": {},
   "outputs": [
    {
     "data": {
      "image/png": "[encoded data removed]",
      "text/plain": [
       "<Figure size 1600x1440 with 1 Axes>"
      ]
     },
     "metadata": {},
     "output_type": "display_data"
    }
   ],
   "source": [
    "plt.figure(figsize=(20,18),dpi=80)\n",
    "plt.subplot(611)\n",
    "plt.plot(data_uv.index,data_uv.values,'ro-')\n",
    "plt.gca().xaxis.set_major_formatter(mdates.DateFormatter('%m/%d'))\n",
    "plt.gca().xaxis.set_major_locator(mdates.DayLocator())\n",
    "plt.gcf().autofmt_xdate()#自动旋转日期标记\n",
    "plt.xlabel('2017-xx-xx')\n",
    "plt.title('一个月内uv的变化')\n",
    "plt.show()"
   ]
  },
  {
   "cell_type": "code",
   "execution_count": 188,
   "id": "88e24ec6",
   "metadata": {},
   "outputs": [
    {
     "data": {
      "image/png": "[encoded data removed]",
      "text/plain": [
       "<Figure size 1440x400 with 1 Axes>"
      ]
     },
     "metadata": {},
     "output_type": "display_data"
    }
   ],
   "source": [
    "#运营指标：日ARPPU,日ARPU\n",
    "#日ARPPU每付费平均费用=总收入/活跃付费用户数（由于没有具体金额，所以使用消费总数代替总金额）\n",
    "#每天每人消费总次数\n",
    "one_user_buy1=df_new[df_new['行为类型']=='付款'].groupby(['date','用户id']).size().reset_index().rename(columns={0:'total'})\n",
    "#one_user_buy1.head()\n",
    "one_user_buy2=one_user_buy1.groupby('date')['total'].sum()/one_user_buy1.groupby('date')['total'].count()\n",
    "plt.figure(figsize=(18,5), dpi=80)\n",
    "plt.subplot(121)\n",
    "one_user_buy2.plot()\n",
    "plt.ylabel('平均次数')\n",
    "plt.title('日ARPPU')\n",
    "plt.show()"
   ]
  },
  {
   "cell_type": "code",
   "execution_count": 253,
   "id": "c611558b",
   "metadata": {},
   "outputs": [
    {
     "data": {
      "image/png": "[encoded data removed]",
      "text/plain": [
       "<Figure size 1440x400 with 1 Axes>"
      ]
     },
     "metadata": {},
     "output_type": "display_data"
    }
   ],
   "source": [
    "#日ARPU平均每活跃用户消费次数\n",
    "df['operation']=1\n",
    "#每天不同用户不同行为类型次数\n",
    "df_user_active1=df.groupby(['date','用户id','行为类型'])['operation'].count().reset_index().rename(columns={'operation':'total'})\n",
    "#data_user_active.head()\n",
    "plt.figure(figsize=(18,5), dpi=80)\n",
    "plt.subplot(122)\n",
    "data_user_active2=df_user_active1.groupby('date').apply(lambda x: x[x.行为类型 =='付款'].total.sum()/len(x.用户id.unique()))\n",
    "data_user_active2.plot()\n",
    "plt.ylabel('平均次数')\n",
    "plt.title('日ARPU')\n",
    "plt.show()\n"
   ]
  },
  {
   "cell_type": "code",
   "execution_count": null,
   "id": "4cab309f",
   "metadata": {},
   "outputs": [],
   "source": []
  }
 ],
 "metadata": {
  "kernelspec": {
   "display_name": "Python 3",
   "language": "python",
   "name": "python3"
  },
  "language_info": {
   "codemirror_mode": {
    "name": "ipython",
    "version": 3
   },
   "file_extension": ".py",
   "mimetype": "text/x-python",
   "name": "python",
   "nbconvert_exporter": "python",
   "pygments_lexer": "ipython3",
   "version": "3.8.8"
  },
  "toc": {
   "base_numbering": 1,
   "nav_menu": {},
   "number_sections": true,
   "sideBar": true,
   "skip_h1_title": false,
   "title_cell": "Table of Contents",
   "title_sidebar": "Contents",
   "toc_cell": false,
   "toc_position": {},
   "toc_section_display": true,
   "toc_window_display": false
  }
 },
 "nbformat": 4,
 "nbformat_minor": 5
}
